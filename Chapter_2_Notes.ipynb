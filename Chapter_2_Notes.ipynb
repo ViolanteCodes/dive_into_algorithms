{
 "cells": [
  {
   "cell_type": "markdown",
   "id": "female-pioneer",
   "metadata": {},
   "source": [
    "# Chapter 2 : Algorithms in History\n",
    "\n",
    "## Russian (Egyptian) Peasant (Probably Not) Multiplication\n",
    "\n",
    "Enables people to multiply large numbers without the usage of the multiplication table.\n",
    "\n",
    "### Method\n",
    "\n",
    "- Two columns:\n",
    "    - Left: Halving (Put in first multiplier)\n",
    "        - Each row halves the previous, ignore the remainder\n",
    "        - Continue until you reach 1\n",
    "    - Right: Doubling (Put in second multiplier)\n",
    "        - Each row doubles the previous\n",
    "        - Continue until you have as many entries as in the halving column\n",
    "- Cross out every row in which the halving column contains an even number.\n",
    "- Sum whats left in the doubling column.\n",
    "\n",
    "### Explanation\n",
    "\n",
    "This works because the doubling column is essentially the second number * powers of 2 (number * 2 ^ 0, number * 2 ^ 1, number * 2 ^ 2, etc.)\n",
    " - See page 17, too lazy to type out formulas.\n",
    " \n",
    "... \"If you number the rows of the halving column ...now notice the crucial pattern: those row numbers are exactly the exponents in the expression for 89 that we found ... the odd entries will always have row numbers that are the exponents in a sum of powers of 2 equaling our original number.\"\n",
    "\n",
    "### In Other Words:\n",
    "\n",
    "***RPM is an algorithm inside of an algorithm.*** \n",
    "- The halving column is an implementation of an algorithm that finds the sum of powers of 2 that equals the number at the top of the column. (Binary Expansion of 2)\n",
    "    - \"100\" in binary is 1 x 2^2 + 0 x 2^1 + 0 x 2^0\n",
    "        Which means \"4\"\n",
    "- Then we run the full algorithm to repeat the multiplication process\n",
    "\n",
    "## Implementing RPM in Python (Page 18)      \n",
    "    "
   ]
  },
  {
   "cell_type": "code",
   "execution_count": 5,
   "id": "valid-majority",
   "metadata": {},
   "outputs": [
    {
     "ename": "ModuleNotFoundError",
     "evalue": "No module named 'pandas'",
     "output_type": "error",
     "traceback": [
      "\u001b[0;31m---------------------------------------------------------------------------\u001b[0m",
      "\u001b[0;31mModuleNotFoundError\u001b[0m                       Traceback (most recent call last)",
      "\u001b[0;32m<ipython-input-5-52903642c42d>\u001b[0m in \u001b[0;36m<module>\u001b[0;34m\u001b[0m\n\u001b[1;32m     24\u001b[0m \u001b[0;31m# Now, lets put these together in a dataframe called half_double:\u001b[0m\u001b[0;34m\u001b[0m\u001b[0;34m\u001b[0m\u001b[0;34m\u001b[0m\u001b[0m\n\u001b[1;32m     25\u001b[0m \u001b[0;34m\u001b[0m\u001b[0m\n\u001b[0;32m---> 26\u001b[0;31m \u001b[0;32mimport\u001b[0m \u001b[0mpandas\u001b[0m \u001b[0;32mas\u001b[0m \u001b[0mpd\u001b[0m\u001b[0;34m\u001b[0m\u001b[0;34m\u001b[0m\u001b[0m\n\u001b[0m",
      "\u001b[0;31mModuleNotFoundError\u001b[0m: No module named 'pandas'"
     ]
    }
   ],
   "source": [
    "# First, we need two numbers:\n",
    "n1 = 89\n",
    "n2 = 18\n",
    "\n",
    "# halving column\n",
    "halving = [n1]\n",
    "\n",
    "# We need to divide by 2 and ignore the remainder (can use math.floor(), which takes the closest integer\n",
    "# LESS than a given number.)\n",
    "\n",
    "import math\n",
    "\n",
    "# Now, loop through this function, and for each iteration, find the smallest entry and append the list.\n",
    "\n",
    "while (min(halving) > 1):\n",
    "    halving.append(math.floor(min(halving)/2))\n",
    "\n",
    "# doubling column is similar; stop when length of list reaches same as halving \"column\".\n",
    "\n",
    "doubling = [n2]\n",
    "while (len(doubling) < len(halving)):\n",
    "    doubling.append(max(doubling) * 2)\n",
    "\n",
    "# Now, lets put these together in a dataframe called half_double:\n",
    "\n",
    "import pandas as pd"
   ]
  },
  {
   "cell_type": "code",
   "execution_count": null,
   "id": "olive-model",
   "metadata": {},
   "outputs": [],
   "source": []
  }
 ],
 "metadata": {
  "kernelspec": {
   "display_name": "Python 3",
   "language": "python",
   "name": "python3"
  },
  "language_info": {
   "codemirror_mode": {
    "name": "ipython",
    "version": 3
   },
   "file_extension": ".py",
   "mimetype": "text/x-python",
   "name": "python",
   "nbconvert_exporter": "python",
   "pygments_lexer": "ipython3",
   "version": "3.8.5"
  }
 },
 "nbformat": 4,
 "nbformat_minor": 5
}
