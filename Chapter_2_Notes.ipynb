{
 "cells": [
  {
   "cell_type": "markdown",
   "id": "female-pioneer",
   "metadata": {},
   "source": [
    "# Chapter 2 : Algorithms in History\n",
    "\n",
    "## Russian (Egyptian) Peasant (Probably Not) Multiplication\n",
    "\n",
    "Enables people to multiply large numbers without the usage of the multiplication table.\n",
    "\n",
    "### Method\n",
    "\n",
    "- Two columns:\n",
    "    - Left: Halving (Put in first multiplicand)\n",
    "        - Each row halves the previous, ignore the remainder\n",
    "        - Continue until you reach 1\n",
    "    - Right: Doubling (Put in second multiplicand)\n",
    "        - Each row doubles the previous\n",
    "        - Continue until you have as many entries as in the halving column\n",
    "- Cross out every row in which the halving column contains an even number.\n",
    "- Sum whats left in the doubling column.\n",
    "\n",
    "### Explanation\n",
    "\n",
    "This works because the doubling column is essentially the second number * powers of 2 (number * 2 ^ 0, number * 2 ^ 1, number * 2 ^ 2, etc.)\n",
    " - See page 17, too lazy to type out formulas.\n",
    " \n",
    "... \"If you number the rows of the halving column ...now notice the crucial pattern: those row numbers are exactly the exponents in the expression for 89 that we found ... the odd entries will always have row numbers that are the exponents in a sum of powers of 2 equaling our original number.\"\n",
    "\n",
    "### In Other Words:\n",
    "\n",
    "***RPM is an algorithm inside of an algorithm.*** \n",
    "- The halving column is an implementation of an algorithm that finds the sum of powers of 2 that equals the number at the top of the column. (Binary Expansion of 2)\n",
    "    - \"100\" in binary is 1 x 2^2 + 0 x 2^1 + 0 x 2^0\n",
    "        Which means \"4\"\n",
    "- Then we run the full algorithm to repeat the multiplication process\n",
    "\n",
    "## Implementing RPM in Python (Page 18)      \n",
    "    "
   ]
  },
  {
   "cell_type": "code",
   "execution_count": 3,
   "id": "valid-majority",
   "metadata": {},
   "outputs": [
    {
     "data": {
      "text/html": [
       "<div>\n",
       "<style scoped>\n",
       "    .dataframe tbody tr th:only-of-type {\n",
       "        vertical-align: middle;\n",
       "    }\n",
       "\n",
       "    .dataframe tbody tr th {\n",
       "        vertical-align: top;\n",
       "    }\n",
       "\n",
       "    .dataframe thead th {\n",
       "        text-align: right;\n",
       "    }\n",
       "</style>\n",
       "<table border=\"1\" class=\"dataframe\">\n",
       "  <thead>\n",
       "    <tr style=\"text-align: right;\">\n",
       "      <th></th>\n",
       "      <th>0</th>\n",
       "      <th>1</th>\n",
       "    </tr>\n",
       "  </thead>\n",
       "  <tbody>\n",
       "    <tr>\n",
       "      <th>0</th>\n",
       "      <td>89</td>\n",
       "      <td>18</td>\n",
       "    </tr>\n",
       "    <tr>\n",
       "      <th>1</th>\n",
       "      <td>44</td>\n",
       "      <td>36</td>\n",
       "    </tr>\n",
       "    <tr>\n",
       "      <th>2</th>\n",
       "      <td>22</td>\n",
       "      <td>72</td>\n",
       "    </tr>\n",
       "    <tr>\n",
       "      <th>3</th>\n",
       "      <td>11</td>\n",
       "      <td>144</td>\n",
       "    </tr>\n",
       "    <tr>\n",
       "      <th>4</th>\n",
       "      <td>5</td>\n",
       "      <td>288</td>\n",
       "    </tr>\n",
       "    <tr>\n",
       "      <th>5</th>\n",
       "      <td>2</td>\n",
       "      <td>576</td>\n",
       "    </tr>\n",
       "    <tr>\n",
       "      <th>6</th>\n",
       "      <td>1</td>\n",
       "      <td>1152</td>\n",
       "    </tr>\n",
       "  </tbody>\n",
       "</table>\n",
       "</div>"
      ],
      "text/plain": [
       "    0     1\n",
       "0  89    18\n",
       "1  44    36\n",
       "2  22    72\n",
       "3  11   144\n",
       "4   5   288\n",
       "5   2   576\n",
       "6   1  1152"
      ]
     },
     "metadata": {},
     "output_type": "display_data"
    }
   ],
   "source": [
    "# First, we need two numbers:\n",
    "n1 = 89\n",
    "n2 = 18\n",
    "\n",
    "# halving column\n",
    "halving = [n1]\n",
    "\n",
    "# We need to divide by 2 and ignore the remainder (can use math.floor(), which takes the closest integer\n",
    "# LESS than a given number.)\n",
    "\n",
    "import math\n",
    "\n",
    "# Now, loop through this function, and for each iteration, find the smallest entry and append the list.\n",
    "\n",
    "while (min(halving) > 1):\n",
    "    halving.append(math.floor(min(halving)/2))\n",
    "\n",
    "# doubling column is similar; stop when length of list reaches same as halving \"column\".\n",
    "\n",
    "doubling = [n2]\n",
    "while (len(doubling) < len(halving)):\n",
    "    doubling.append(max(doubling) * 2)\n",
    "\n",
    "# Now, lets put these together in a dataframe called half_double:\n",
    "\n",
    "import pandas as pd\n",
    "# Pandas allows us to easily work with tables.\n",
    "\n",
    "half_double = pd.DataFrame(zip(halving,doubling))\n",
    "# zip joins together our columns, and makes it easy to work with our rows.\n",
    "\n",
    "display(half_double)"
   ]
  },
  {
   "cell_type": "code",
   "execution_count": 4,
   "id": "olive-model",
   "metadata": {},
   "outputs": [
    {
     "data": {
      "text/html": [
       "<div>\n",
       "<style scoped>\n",
       "    .dataframe tbody tr th:only-of-type {\n",
       "        vertical-align: middle;\n",
       "    }\n",
       "\n",
       "    .dataframe tbody tr th {\n",
       "        vertical-align: top;\n",
       "    }\n",
       "\n",
       "    .dataframe thead th {\n",
       "        text-align: right;\n",
       "    }\n",
       "</style>\n",
       "<table border=\"1\" class=\"dataframe\">\n",
       "  <thead>\n",
       "    <tr style=\"text-align: right;\">\n",
       "      <th></th>\n",
       "      <th>0</th>\n",
       "      <th>1</th>\n",
       "    </tr>\n",
       "  </thead>\n",
       "  <tbody>\n",
       "    <tr>\n",
       "      <th>0</th>\n",
       "      <td>89</td>\n",
       "      <td>18</td>\n",
       "    </tr>\n",
       "    <tr>\n",
       "      <th>3</th>\n",
       "      <td>11</td>\n",
       "      <td>144</td>\n",
       "    </tr>\n",
       "    <tr>\n",
       "      <th>4</th>\n",
       "      <td>5</td>\n",
       "      <td>288</td>\n",
       "    </tr>\n",
       "    <tr>\n",
       "      <th>6</th>\n",
       "      <td>1</td>\n",
       "      <td>1152</td>\n",
       "    </tr>\n",
       "  </tbody>\n",
       "</table>\n",
       "</div>"
      ],
      "text/plain": [
       "    0     1\n",
       "0  89    18\n",
       "3  11   144\n",
       "4   5   288\n",
       "6   1  1152"
      ]
     },
     "metadata": {},
     "output_type": "display_data"
    }
   ],
   "source": [
    "# Now remove rows whose entries in the halving column are even (can use modulo).\n",
    "# loc allows us to only select those rows we want.\n",
    "# Need to use square brackets after loc to specify rows and columns, separated with a comma\n",
    "\n",
    "half_double = half_double.loc[half_double[0]%2 == 1,:]\n",
    "# gives all all ODD ROWS in halving column, which is the FIRST column (so index position 0.)\n",
    "# : specifies we want ALL columns.\n",
    "\n",
    "display(half_double)"
   ]
  },
  {
   "cell_type": "code",
   "execution_count": 5,
   "id": "southeast-alliance",
   "metadata": {},
   "outputs": [
    {
     "name": "stdout",
     "output_type": "stream",
     "text": [
      "1602\n"
     ]
    }
   ],
   "source": [
    "# Finally, we take the sum or the remaining doubling entries:\n",
    "answer = sum(half_double.loc[:, 1])\n",
    "print(answer)"
   ]
  },
  {
   "cell_type": "markdown",
   "id": "assumed-connection",
   "metadata": {},
   "source": [
    "Note that RPM is faster if we put 18 in the halving column and 89 in the doubling column - so a good first step is to move whatever integeter is smaller to the halving column!\n",
    "\n",
    "RPM is slower than traditionally methods of multiplication, but it requires less memorization up front.\n",
    "    - sacrifices speed for low memory requirements!\n",
    "    \n",
    "### ***Speed vs memory tradeoff is an important consideration in building algorithms.***"
   ]
  },
  {
   "cell_type": "markdown",
   "id": "found-southeast",
   "metadata": {},
   "source": [
    "# P 20: Euclid's Algorithm:\n",
    "\n",
    "***Constructive*** algorithms like Euclid's provide simple tools to draw or create a useful figure, like a circle or a square.\n",
    "\n",
    "## Doing Euclid's Algorithm By Hand:\n",
    "\n",
    "- Is used to find the greatest common divisor of two numbers.\n",
    "\n",
    "For two numbers, a (the larger integer), and b (the smaller):\n",
    "    - a/b gives us an integer quotient (q1) and an integer remainder (c)\n",
    "    - In this case, a = q1 x b + c\n",
    "- Then, focus just on b and c.\n",
    "    - say that b is larger than c:\n",
    "        - find the quotient and remainder when dividing b/c\n",
    "- continue that pattern, working your way through the alphabet, shifting terms to the left every time. \n",
    "- You're done when the remainder is equal to zero. Remember that at each step, you're working through smaller and smaller integers - so the last nonzero integer is the greatest common divisor.\n",
    "\n",
    "## Implementing in Python:"
   ]
  },
  {
   "cell_type": "code",
   "execution_count": 2,
   "id": "advised-signal",
   "metadata": {},
   "outputs": [
    {
     "name": "stdout",
     "output_type": "stream",
     "text": [
      "5\n"
     ]
    }
   ],
   "source": [
    "def euclids(x,y):\n",
    "    \"\"\"A function that performs Euclid's Algorithm in Python\"\"\"\n",
    "    larger = max(x, y)\n",
    "    smaller = min(x,y)\n",
    "    remainder = larger % smaller\n",
    "    if(remainder == 0):\n",
    "        return (smaller)\n",
    "    if(remainder != 0):\n",
    "        return(euclids(smaller, remainder))\n",
    "    \n",
    "print(euclids(2505, 520))"
   ]
  },
  {
   "cell_type": "markdown",
   "id": "aerial-burden",
   "metadata": {},
   "source": [
    "### Things to Note:\n",
    "\n",
    "- We no longer need q1, q2, etc. We only need the remainders, which are easy to get with the modulo operator.\n",
    "- Note that the function calls itself if the remainder is nonzero.\n",
    "\n",
    "***The act of a function calling itself is known as recursion.***\n",
    "\n",
    "#### Suggestion: Try to create an even smaller version:"
   ]
  },
  {
   "cell_type": "code",
   "execution_count": 8,
   "id": "united-breeding",
   "metadata": {},
   "outputs": [
    {
     "name": "stdout",
     "output_type": "stream",
     "text": [
      "5\n"
     ]
    }
   ],
   "source": [
    "def euc_small(x,y):\n",
    "    \"\"\"A smaller version\"\"\"\n",
    "    remainder = max(x,y) % min(x,y)\n",
    "    if(remainder != 0):\n",
    "        return(euclids(min(x,y), remainder))\n",
    "    return min(x,y)\n",
    "\n",
    "print(euc_small(2505, 520))"
   ]
  },
  {
   "cell_type": "markdown",
   "id": "tracked-colonial",
   "metadata": {},
   "source": [
    "# P22: Japanese Magic Squares\n",
    "\n",
    "## Creating the Luo Shuo Square in Python\n",
    "\n",
    "A ***magic square*** is an array of unique, consecutive natural numbers such that all rows, all columns, and both of the main diagonals have the same sum. Magic squares can be any size.\n",
    "\n",
    "Example: The Lu Shuo Square:\n",
    "\n",
    "```\n",
    "4 9 2\n",
    "3 5 7\n",
    "8 1 6\n",
    "```\n",
    "\n",
    "Note that all colums, rows, and both main diagonals sum to 15.\n",
    "\n",
    "Below is a function that verfies whether a given matrix is a magic square:"
   ]
  },
  {
   "cell_type": "code",
   "execution_count": 13,
   "id": "suited-china",
   "metadata": {},
   "outputs": [
    {
     "name": "stdout",
     "output_type": "stream",
     "text": [
      "True\n"
     ]
    }
   ],
   "source": [
    "luoshu = [[4,9,2], [3,5,7], [8,1,6]]\n",
    "\n",
    "def verifysquare(square):\n",
    "    sums = []\n",
    "    rowsums = [sum(square[i]) for i in range(0, len(square))]\n",
    "    sums.append(rowsums)\n",
    "    colsums = [sum([row[i] for row in square]) for i in range(0, len(square))]\n",
    "    sums.append(colsums)\n",
    "    maindiag = sum([square[i][i] for i in range(0, len(square))])\n",
    "    sums.append([maindiag])\n",
    "    antidiag = sum([square[i][len(square) - 1 - i] for i in range(0, len(square))])\n",
    "    sums.append([antidiag])\n",
    "    flattened = [j for i in sums for j in i]\n",
    "    return(len(list(set(flattened))) == 1)\n",
    "\n",
    "print(verifysquare(luoshu))\n",
    "    "
   ]
  },
  {
   "cell_type": "markdown",
   "id": "preliminary-composition",
   "metadata": {},
   "source": [
    "## Kuroshima's algorithm: \n",
    "- Generation of magic squares of ***odd dimension***.\n",
    "\n",
    "1. Fill in the five central squares according to Table 2-10. (p 24)\n",
    "2. Beginning with any entry whose value is known, determine the value of a neighboring entry by one of the three following rules.\n",
    "3. Repeat step 2 until every entry in the full magic square is filled in.\n",
    "\n"
   ]
  }
 ],
 "metadata": {
  "kernelspec": {
   "display_name": "Python 3",
   "language": "python",
   "name": "python3"
  },
  "language_info": {
   "codemirror_mode": {
    "name": "ipython",
    "version": 3
   },
   "file_extension": ".py",
   "mimetype": "text/x-python",
   "name": "python",
   "nbconvert_exporter": "python",
   "pygments_lexer": "ipython3",
   "version": "3.8.5"
  }
 },
 "nbformat": 4,
 "nbformat_minor": 5
}
