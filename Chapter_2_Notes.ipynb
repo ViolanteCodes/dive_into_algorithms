{
 "cells": [
  {
   "cell_type": "markdown",
   "id": "female-pioneer",
   "metadata": {},
   "source": [
    "# Chapter 2 : Algorithms in History\n",
    "\n",
    "## Russian (Egyptian) Peasant (Probably Not) Multiplication\n",
    "\n",
    "Enables people to multiply large numbers without the usage of the multiplication table.\n",
    "\n",
    "### Method\n",
    "\n",
    "- Two columns:\n",
    "    - Left: Halving (Put in first multiplicand)\n",
    "        - Each row halves the previous, ignore the remainder\n",
    "        - Continue until you reach 1\n",
    "    - Right: Doubling (Put in second multiplicand)\n",
    "        - Each row doubles the previous\n",
    "        - Continue until you have as many entries as in the halving column\n",
    "- Cross out every row in which the halving column contains an even number.\n",
    "- Sum whats left in the doubling column.\n",
    "\n",
    "### Explanation\n",
    "\n",
    "This works because the doubling column is essentially the second number * powers of 2 (number * 2 ^ 0, number * 2 ^ 1, number * 2 ^ 2, etc.)\n",
    " - See page 17, too lazy to type out formulas.\n",
    " \n",
    "... \"If you number the rows of the halving column ...now notice the crucial pattern: those row numbers are exactly the exponents in the expression for 89 that we found ... the odd entries will always have row numbers that are the exponents in a sum of powers of 2 equaling our original number.\"\n",
    "\n",
    "### In Other Words:\n",
    "\n",
    "***RPM is an algorithm inside of an algorithm.*** \n",
    "- The halving column is an implementation of an algorithm that finds the sum of powers of 2 that equals the number at the top of the column. (Binary Expansion of 2)\n",
    "    - \"100\" in binary is 1 x 2^2 + 0 x 2^1 + 0 x 2^0\n",
    "        Which means \"4\"\n",
    "- Then we run the full algorithm to repeat the multiplication process\n",
    "\n",
    "## Implementing RPM in Python (Page 18)      \n",
    "    "
   ]
  },
  {
   "cell_type": "code",
   "execution_count": 3,
   "id": "valid-majority",
   "metadata": {},
   "outputs": [
    {
     "data": {
      "text/html": [
       "<div>\n",
       "<style scoped>\n",
       "    .dataframe tbody tr th:only-of-type {\n",
       "        vertical-align: middle;\n",
       "    }\n",
       "\n",
       "    .dataframe tbody tr th {\n",
       "        vertical-align: top;\n",
       "    }\n",
       "\n",
       "    .dataframe thead th {\n",
       "        text-align: right;\n",
       "    }\n",
       "</style>\n",
       "<table border=\"1\" class=\"dataframe\">\n",
       "  <thead>\n",
       "    <tr style=\"text-align: right;\">\n",
       "      <th></th>\n",
       "      <th>0</th>\n",
       "      <th>1</th>\n",
       "    </tr>\n",
       "  </thead>\n",
       "  <tbody>\n",
       "    <tr>\n",
       "      <th>0</th>\n",
       "      <td>89</td>\n",
       "      <td>18</td>\n",
       "    </tr>\n",
       "    <tr>\n",
       "      <th>1</th>\n",
       "      <td>44</td>\n",
       "      <td>36</td>\n",
       "    </tr>\n",
       "    <tr>\n",
       "      <th>2</th>\n",
       "      <td>22</td>\n",
       "      <td>72</td>\n",
       "    </tr>\n",
       "    <tr>\n",
       "      <th>3</th>\n",
       "      <td>11</td>\n",
       "      <td>144</td>\n",
       "    </tr>\n",
       "    <tr>\n",
       "      <th>4</th>\n",
       "      <td>5</td>\n",
       "      <td>288</td>\n",
       "    </tr>\n",
       "    <tr>\n",
       "      <th>5</th>\n",
       "      <td>2</td>\n",
       "      <td>576</td>\n",
       "    </tr>\n",
       "    <tr>\n",
       "      <th>6</th>\n",
       "      <td>1</td>\n",
       "      <td>1152</td>\n",
       "    </tr>\n",
       "  </tbody>\n",
       "</table>\n",
       "</div>"
      ],
      "text/plain": [
       "    0     1\n",
       "0  89    18\n",
       "1  44    36\n",
       "2  22    72\n",
       "3  11   144\n",
       "4   5   288\n",
       "5   2   576\n",
       "6   1  1152"
      ]
     },
     "metadata": {},
     "output_type": "display_data"
    }
   ],
   "source": [
    "# First, we need two numbers:\n",
    "n1 = 89\n",
    "n2 = 18\n",
    "\n",
    "# halving column\n",
    "halving = [n1]\n",
    "\n",
    "# We need to divide by 2 and ignore the remainder (can use math.floor(), which takes the closest integer\n",
    "# LESS than a given number.)\n",
    "\n",
    "import math\n",
    "\n",
    "# Now, loop through this function, and for each iteration, find the smallest entry and append the list.\n",
    "\n",
    "while (min(halving) > 1):\n",
    "    halving.append(math.floor(min(halving)/2))\n",
    "\n",
    "# doubling column is similar; stop when length of list reaches same as halving \"column\".\n",
    "\n",
    "doubling = [n2]\n",
    "while (len(doubling) < len(halving)):\n",
    "    doubling.append(max(doubling) * 2)\n",
    "\n",
    "# Now, lets put these together in a dataframe called half_double:\n",
    "\n",
    "import pandas as pd\n",
    "# Pandas allows us to easily work with tables.\n",
    "\n",
    "half_double = pd.DataFrame(zip(halving,doubling))\n",
    "# zip joins together our columns, and makes it easy to work with our rows.\n",
    "\n",
    "display(half_double)"
   ]
  },
  {
   "cell_type": "code",
   "execution_count": 4,
   "id": "olive-model",
   "metadata": {},
   "outputs": [
    {
     "data": {
      "text/html": [
       "<div>\n",
       "<style scoped>\n",
       "    .dataframe tbody tr th:only-of-type {\n",
       "        vertical-align: middle;\n",
       "    }\n",
       "\n",
       "    .dataframe tbody tr th {\n",
       "        vertical-align: top;\n",
       "    }\n",
       "\n",
       "    .dataframe thead th {\n",
       "        text-align: right;\n",
       "    }\n",
       "</style>\n",
       "<table border=\"1\" class=\"dataframe\">\n",
       "  <thead>\n",
       "    <tr style=\"text-align: right;\">\n",
       "      <th></th>\n",
       "      <th>0</th>\n",
       "      <th>1</th>\n",
       "    </tr>\n",
       "  </thead>\n",
       "  <tbody>\n",
       "    <tr>\n",
       "      <th>0</th>\n",
       "      <td>89</td>\n",
       "      <td>18</td>\n",
       "    </tr>\n",
       "    <tr>\n",
       "      <th>3</th>\n",
       "      <td>11</td>\n",
       "      <td>144</td>\n",
       "    </tr>\n",
       "    <tr>\n",
       "      <th>4</th>\n",
       "      <td>5</td>\n",
       "      <td>288</td>\n",
       "    </tr>\n",
       "    <tr>\n",
       "      <th>6</th>\n",
       "      <td>1</td>\n",
       "      <td>1152</td>\n",
       "    </tr>\n",
       "  </tbody>\n",
       "</table>\n",
       "</div>"
      ],
      "text/plain": [
       "    0     1\n",
       "0  89    18\n",
       "3  11   144\n",
       "4   5   288\n",
       "6   1  1152"
      ]
     },
     "metadata": {},
     "output_type": "display_data"
    }
   ],
   "source": [
    "# Now remove rows whose entries in the halving column are even (can use modulo).\n",
    "# loc allows us to only select those rows we want.\n",
    "# Need to use square brackets after loc to specify rows and columns, separated with a comma\n",
    "\n",
    "half_double = half_double.loc[half_double[0]%2 == 1,:]\n",
    "# gives all all ODD ROWS in halving column, which is the FIRST column (so index position 0.)\n",
    "# : specifies we want ALL columns.\n",
    "\n",
    "display(half_double)"
   ]
  },
  {
   "cell_type": "code",
   "execution_count": 5,
   "id": "southeast-alliance",
   "metadata": {},
   "outputs": [
    {
     "name": "stdout",
     "output_type": "stream",
     "text": [
      "1602\n"
     ]
    }
   ],
   "source": [
    "# Finally, we take the sum or the remaining doubling entries:\n",
    "answer = sum(half_double.loc[:, 1])\n",
    "print(answer)"
   ]
  },
  {
   "cell_type": "markdown",
   "id": "assumed-connection",
   "metadata": {},
   "source": [
    "Note that RPM is faster if we put 18 in the halving column and 89 in the doubling column - so a good first step is to move whatever integeter is smaller to the halving column!\n",
    "\n",
    "RPM is slower than traditionally methods of multiplication, but it requires less memorization up front.\n",
    "    - sacrifices speed for low memory requirements!\n",
    "    \n",
    "### ***Speed vs memory tradeoff is an important consideration in building algorithms.***"
   ]
  },
  {
   "cell_type": "code",
   "execution_count": null,
   "id": "incorporated-pressing",
   "metadata": {},
   "outputs": [],
   "source": []
  }
 ],
 "metadata": {
  "kernelspec": {
   "display_name": "Python 3",
   "language": "python",
   "name": "python3"
  },
  "language_info": {
   "codemirror_mode": {
    "name": "ipython",
    "version": 3
   },
   "file_extension": ".py",
   "mimetype": "text/x-python",
   "name": "python",
   "nbconvert_exporter": "python",
   "pygments_lexer": "ipython3",
   "version": "3.8.5"
  }
 },
 "nbformat": 4,
 "nbformat_minor": 5
}
