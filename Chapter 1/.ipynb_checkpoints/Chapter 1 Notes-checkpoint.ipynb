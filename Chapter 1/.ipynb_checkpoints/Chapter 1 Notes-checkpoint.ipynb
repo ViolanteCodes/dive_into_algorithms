{
 "cells": [
  {
   "cell_type": "markdown",
   "id": "adjustable-final",
   "metadata": {},
   "source": [
    "# Chapter 1\n",
    "\n",
    "## Outfielder Problem\n",
    "\n",
    "- Two different solutions:\n",
    "    - Analytic: Mathematically precise, computer can execute instantly\n",
    "    - Algorithmic:"
   ]
  },
  {
   "cell_type": "markdown",
   "id": "comparative-processing",
   "metadata": {},
   "source": [
    "## The Analytic Approach\n",
    "\n",
    "### Gallileo:\n",
    "- horizontal position of ball (x) = (starting speed in horizontal direction) * (time)\n",
    "- vertical position of ball (height, y) = \n",
    "\n",
    "((starting speed in vertical direction) * time) PLUS\n",
    "\n",
    "((constant downward acceleration due to gravity ~ -9.81 m/s) * time^2) /2\n"
   ]
  },
  {
   "cell_type": "code",
   "execution_count": 1,
   "id": "indonesian-yemen",
   "metadata": {},
   "outputs": [
    {
     "name": "stdout",
     "output_type": "stream",
     "text": [
      "-400\n"
     ]
    }
   ],
   "source": [
    "# Pg. 3 (Listing 1-1)\n",
    "\n",
    "# Appropriate for a hypothetical ball whose initial horizontal speed is about 0.99 m/s\n",
    "# and whose initial vertical speed is about 9.9 m/s\n",
    "\n",
    "def ball_trajectory(horiz_speed):\n",
    "    \"\"\"A function that calculates the trajectory of a ball.\"\"\"\n",
    "    location = 10*horiz_speed - 5*(horiz_speed**2)\n",
    "    return(location)\n",
    "\n",
    "#Test\n",
    "\n",
    "horiz_speed = 10\n",
    "result = ball_trajectory(horiz_speed=horiz_speed)\n",
    "print(result)"
   ]
  },
  {
   "cell_type": "code",
   "execution_count": 2,
   "id": "italian-faculty",
   "metadata": {},
   "outputs": [
    {
     "data": {
      "image/png": "[encoded data removed]",
      "text/plain": [
       "<Figure size 432x288 with 1 Axes>"
      ]
     },
     "metadata": {
      "needs_background": "light"
     },
     "output_type": "display_data"
    }
   ],
   "source": [
    "# Pg 3 - List 1.2 - Gravity's Rainbow\n",
    "\n",
    "import matplotlib.pyplot as plt\n",
    "xs = [x/100 for x in list(range(201))]\n",
    "ys = [ball_trajectory(x) for x in xs]\n",
    "plt.plot(xs, ys)\n",
    "plt.title('The Trajectory of a Thrown Ball')\n",
    "plt.xlabel('Horizontal Position of Ball')\n",
    "plt.ylabel('Vertical Position of Ball')\n",
    "plt.axhline(y=0)\n",
    "plt.show()"
   ]
  },
  {
   "cell_type": "markdown",
   "id": "hourly-earthquake",
   "metadata": {},
   "source": [
    "## Page 4 - The Solve For X-Strategy\n",
    "\n",
    "Given the equation for the ball's position, we can now solve the equation for anything that interests us, e.g. the specific height at a given point in time (quadratic formula).\n",
    "\n",
    "This is the \"Solve-for-x strategy\" - write down an equation that describes a situation, then solve that equation for the variable of interest.\n",
    "- powerful\n",
    "- instant\n",
    "- but requires you to know the right formula to solve it\n",
    "\n",
    "Al-Khwarizmi is super cool!"
   ]
  },
  {
   "cell_type": "markdown",
   "id": "color-registrar",
   "metadata": {},
   "source": [
    "### Page 5 - The Inner Physicist\n",
    "\n",
    "#### Inner Physicist Theory:\n",
    "\n",
    "If computers are solving quadratic equations to determine will balls will land -- might humans also be? I.E., might the subconscious be solving high-school level equations?\n",
    "\n",
    "## Page 6 - The Algorithmic Approach\n",
    "\n"
   ]
  },
  {
   "cell_type": "code",
   "execution_count": null,
   "id": "alert-median",
   "metadata": {},
   "outputs": [],
   "source": []
  }
 ],
 "metadata": {
  "kernelspec": {
   "display_name": "Python 3",
   "language": "python",
   "name": "python3"
  },
  "language_info": {
   "codemirror_mode": {
    "name": "ipython",
    "version": 3
   },
   "file_extension": ".py",
   "mimetype": "text/x-python",
   "name": "python",
   "nbconvert_exporter": "python",
   "pygments_lexer": "ipython3",
   "version": "3.8.5"
  }
 },
 "nbformat": 4,
 "nbformat_minor": 5
}
